{
 "cells": [
  {
   "cell_type": "code",
   "execution_count": 1,
   "metadata": {},
   "outputs": [],
   "source": [
    "from sklearn.preprocessing import StandardScaler\n",
    "import pandas as pd\n",
    "import numpy as np\n",
    "import matplotlib.pyplot as plt"
   ]
  },
  {
   "cell_type": "code",
   "execution_count": 13,
   "metadata": {},
   "outputs": [
    {
     "name": "stdout",
     "output_type": "stream",
     "text": [
      "<class 'pandas.core.frame.DataFrame'>\n",
      "RangeIndex: 891 entries, 0 to 890\n",
      "Data columns (total 12 columns):\n",
      " #   Column       Non-Null Count  Dtype  \n",
      "---  ------       --------------  -----  \n",
      " 0   PassengerId  891 non-null    int64  \n",
      " 1   Survived     891 non-null    int64  \n",
      " 2   Pclass       891 non-null    int64  \n",
      " 3   Name         891 non-null    object \n",
      " 4   Sex          891 non-null    object \n",
      " 5   Age          714 non-null    float64\n",
      " 6   SibSp        891 non-null    int64  \n",
      " 7   Parch        891 non-null    int64  \n",
      " 8   Ticket       891 non-null    object \n",
      " 9   Fare         891 non-null    float64\n",
      " 10  Cabin        204 non-null    object \n",
      " 11  Embarked     889 non-null    object \n",
      "dtypes: float64(2), int64(5), object(5)\n",
      "memory usage: 83.7+ KB\n"
     ]
    },
    {
     "data": {
      "text/plain": [
       "None"
      ]
     },
     "metadata": {},
     "output_type": "display_data"
    }
   ],
   "source": [
    "train = pd.read_csv('train.csv')\n",
    "test = pd.read_csv('test.csv')\n",
    "\n",
    "# display(train.head())\n",
    "# display(test.head())\n",
    "\n",
    "display(train.info())"
   ]
  },
  {
   "cell_type": "code",
   "execution_count": 11,
   "metadata": {},
   "outputs": [
    {
     "data": {
      "text/html": [
       "<div>\n",
       "<style scoped>\n",
       "    .dataframe tbody tr th:only-of-type {\n",
       "        vertical-align: middle;\n",
       "    }\n",
       "\n",
       "    .dataframe tbody tr th {\n",
       "        vertical-align: top;\n",
       "    }\n",
       "\n",
       "    .dataframe thead th {\n",
       "        text-align: right;\n",
       "    }\n",
       "</style>\n",
       "<table border=\"1\" class=\"dataframe\">\n",
       "  <thead>\n",
       "    <tr style=\"text-align: right;\">\n",
       "      <th></th>\n",
       "      <th>Name</th>\n",
       "      <th>Cabin</th>\n",
       "    </tr>\n",
       "  </thead>\n",
       "  <tbody>\n",
       "    <tr>\n",
       "      <th>0</th>\n",
       "      <td>Braund, Mr. Owen Harris</td>\n",
       "      <td>NaN</td>\n",
       "    </tr>\n",
       "    <tr>\n",
       "      <th>1</th>\n",
       "      <td>Cumings, Mrs. John Bradley (Florence Briggs Th...</td>\n",
       "      <td>C85</td>\n",
       "    </tr>\n",
       "    <tr>\n",
       "      <th>2</th>\n",
       "      <td>Heikkinen, Miss. Laina</td>\n",
       "      <td>NaN</td>\n",
       "    </tr>\n",
       "    <tr>\n",
       "      <th>3</th>\n",
       "      <td>Futrelle, Mrs. Jacques Heath (Lily May Peel)</td>\n",
       "      <td>C123</td>\n",
       "    </tr>\n",
       "    <tr>\n",
       "      <th>4</th>\n",
       "      <td>Allen, Mr. William Henry</td>\n",
       "      <td>NaN</td>\n",
       "    </tr>\n",
       "    <tr>\n",
       "      <th>...</th>\n",
       "      <td>...</td>\n",
       "      <td>...</td>\n",
       "    </tr>\n",
       "    <tr>\n",
       "      <th>886</th>\n",
       "      <td>Montvila, Rev. Juozas</td>\n",
       "      <td>NaN</td>\n",
       "    </tr>\n",
       "    <tr>\n",
       "      <th>887</th>\n",
       "      <td>Graham, Miss. Margaret Edith</td>\n",
       "      <td>B42</td>\n",
       "    </tr>\n",
       "    <tr>\n",
       "      <th>888</th>\n",
       "      <td>Johnston, Miss. Catherine Helen \"Carrie\"</td>\n",
       "      <td>NaN</td>\n",
       "    </tr>\n",
       "    <tr>\n",
       "      <th>889</th>\n",
       "      <td>Behr, Mr. Karl Howell</td>\n",
       "      <td>C148</td>\n",
       "    </tr>\n",
       "    <tr>\n",
       "      <th>890</th>\n",
       "      <td>Dooley, Mr. Patrick</td>\n",
       "      <td>NaN</td>\n",
       "    </tr>\n",
       "  </tbody>\n",
       "</table>\n",
       "<p>891 rows × 2 columns</p>\n",
       "</div>"
      ],
      "text/plain": [
       "                                                  Name Cabin\n",
       "0                              Braund, Mr. Owen Harris   NaN\n",
       "1    Cumings, Mrs. John Bradley (Florence Briggs Th...   C85\n",
       "2                               Heikkinen, Miss. Laina   NaN\n",
       "3         Futrelle, Mrs. Jacques Heath (Lily May Peel)  C123\n",
       "4                             Allen, Mr. William Henry   NaN\n",
       "..                                                 ...   ...\n",
       "886                              Montvila, Rev. Juozas   NaN\n",
       "887                       Graham, Miss. Margaret Edith   B42\n",
       "888           Johnston, Miss. Catherine Helen \"Carrie\"   NaN\n",
       "889                              Behr, Mr. Karl Howell  C148\n",
       "890                                Dooley, Mr. Patrick   NaN\n",
       "\n",
       "[891 rows x 2 columns]"
      ]
     },
     "metadata": {},
     "output_type": "display_data"
    }
   ],
   "source": [
    "cabinDF = pd.DataFrame((train[\"Name\"], train[\"Cabin\"])).T\n",
    "display(cabinDF)"
   ]
  },
  {
   "cell_type": "code",
   "execution_count": 19,
   "metadata": {},
   "outputs": [],
   "source": [
    "# Braund, Mr. Owen Harris\t\n",
    "# out: 'Braund'\n",
    "# Iterate through the data frame to get each name\n",
    "def findLastName(fullname):\n",
    "    names = fullname.split(',')\n",
    "    return names[0]"
   ]
  },
  {
   "cell_type": "code",
   "execution_count": null,
   "metadata": {},
   "outputs": [
    {
     "name": "stdout",
     "output_type": "stream",
     "text": [
      "['Braund', 'Cumings', 'Heikkinen', 'Futrelle', 'Allen', 'Moran', 'McCarthy', 'Palsson', 'Johnson', 'Nasser', 'Sandstrom', 'Bonnell', 'Saundercock', 'Andersson', 'Vestrom', 'Hewlett', 'Rice', 'Williams', 'Vander Planke', 'Masselmani', 'Fynney', 'Beesley', 'McGowan', 'Sloper', 'Palsson', 'Asplund', 'Emir', 'Fortune', \"O'Dwyer\", 'Todoroff', 'Uruchurtu', 'Spencer', 'Glynn', 'Wheadon', 'Meyer', 'Holverson', 'Mamee', 'Cann', 'Vander Planke', 'Nicola-Yarred', 'Ahlin', 'Turpin', 'Kraeff', 'Laroche', 'Devaney', 'Rogers', 'Lennon', \"O'Driscoll\", 'Samaan', 'Arnold-Franchi', 'Panula', 'Nosworthy', 'Harper', 'Faunthorpe', 'Ostby', 'Woolner', 'Rugg', 'Novel', 'West', 'Goodwin', 'Sirayanian', 'Icard', 'Harris', 'Skoog', 'Stewart', 'Moubarek', 'Nye', 'Crease', 'Andersson', 'Kink', 'Jenkin', 'Goodwin', 'Hood', 'Chronopoulos', 'Bing', 'Moen', 'Staneff', 'Moutal', 'Caldwell', 'Dowdell', 'Waelens', 'Sheerlinck', 'McDermott', 'Carrau', 'Ilett', 'Backstrom', 'Ford', 'Slocovski', 'Fortune', 'Celotti', 'Christmann', 'Andreasson', 'Chaffee', 'Dean', 'Coxon', 'Shorney', 'Goldschmidt', 'Greenfield', 'Doling', 'Kantor', 'Petranec', 'Petroff', 'White', 'Johansson', 'Gustafsson', 'Mionoff', 'Salkjelsvik', 'Moss', 'Rekic', 'Moran', 'Porter', 'Zabour', 'Barton', 'Jussila', 'Attalah', 'Pekoniemi', 'Connors', 'Turpin', 'Baxter', 'Andersson', 'Hickman', 'Moore', 'Nasser', 'Webber', 'White', 'Nicola-Yarred', 'McMahon', 'Madsen', 'Peter', 'Ekstrom', 'Drazenoic', 'Coelho', 'Robins', 'Weisz', 'Sobey', 'Richard', 'Newsom', 'Futrelle', 'Osen', 'Giglio', 'Boulos', 'Nysten', 'Hakkarainen', 'Burke', 'Andrew', 'Nicholls', 'Andersson', 'Ford', 'Navratil', 'Byles', 'Bateman', 'Pears', 'Meo', 'van Billiard', 'Olsen', 'Williams', 'Gilnagh', 'Corn', 'Smiljanic', 'Sage', 'Cribb', 'Watt', 'Bengtsson', 'Calic', 'Panula', 'Goldsmith', 'Chibnall', 'Skoog', 'Baumann', 'Ling', 'Van der hoef', 'Rice', 'Johnson', 'Sivola', 'Smith', 'Klasen', 'Lefebre', 'Isham', 'Hale', 'Leonard', 'Sage', 'Pernot', 'Asplund', 'Becker', 'Kink-Heilmann', 'Rood', \"O'Brien\", 'Romaine', 'Bourke', 'Turcin', 'Pinsky', 'Carbines', 'Andersen-Jensen', 'Navratil', 'Brown', 'Lurette', 'Mernagh', 'Olsen', 'Madigan', 'Yrois', 'Vande Walle', 'Sage', 'Johanson', 'Youseff', 'Cohen', 'Strom', 'Backstrom', 'Albimona', 'Carr', 'Blank', 'Ali', 'Cameron', 'Perkin', 'Givard', 'Kiernan', 'Newell', 'Honkanen', 'Jacobsohn', 'Bazzani', 'Harris', 'Sunderland', 'Bracken', 'Green', 'Nenkoff', 'Hoyt', 'Berglund', 'Mellors', 'Lovell', 'Fahlstrom', 'Lefebre', 'Harris', 'Larsson', 'Sjostedt', 'Asplund', 'Leyson', 'Harknett', 'Hold', 'Collyer', 'Pengelly', 'Hunt', 'Zabour', 'Murphy', 'Coleridge', 'Maenpaa', 'Attalah', 'Minahan', 'Lindahl', 'Hamalainen', 'Beckwith', 'Carter', 'Reed', 'Strom', 'Stead', 'Lobb', 'Rosblom', 'Touma', 'Thorne', 'Cherry', 'Ward', 'Parrish', 'Smith', 'Asplund', 'Taussig', 'Harrison', 'Henry', 'Reeves', 'Panula', 'Persson', 'Graham', 'Bissette', 'Cairns', 'Tornquist', 'Mellinger', 'Natsch', 'Healy', 'Andrews', 'Lindblom', 'Parkes', 'Rice', 'Abbott', 'Duane', 'Olsson', 'de Pelsmaeker', 'Dorking', 'Smith', 'Stankovic', 'de Mulder', 'Naidenoff', 'Hosono', 'Connolly', 'Barber', 'Bishop', 'Levy', 'Haas', 'Mineff', 'Lewy', 'Hanna', 'Allison', 'Saalfeld', 'Baxter', 'Kelly', 'McCoy', 'Johnson', 'Keane', 'Williams', 'Allison', 'Fleming', 'Penasco y Castellana', 'Abelson', 'Francatelli', 'Hays', 'Ryerson', 'Lahtinen', 'Hendekovic', 'Hart', 'Nilsson', 'Kantor', 'Moraweck', 'Wick', 'Spedden', 'Dennis', 'Danoff', 'Slayter', 'Caldwell', 'Sage', 'Young', 'Nysveen', 'Ball', 'Goldsmith', 'Hippach', 'McCoy', 'Partner', 'Graham', 'Vander Planke', 'Frauenthal', 'Denkoff', 'Pears', 'Burns', 'Dahl', 'Blackwell', 'Navratil', 'Fortune', 'Collander', 'Sedgwick', 'Fox', 'Brown', 'Smith', 'Davison', 'Coutts', 'Dimic', 'Odahl', 'Williams-Lambert', 'Elias', 'Arnold-Franchi', 'Yousif', 'Vanden Steen', 'Bowerman', 'Funk', 'McGovern', 'Mockler', 'Skoog', 'del Carlo', 'Barbara', 'Asim', \"O'Brien\", 'Adahl', 'Warren', 'Moussa', 'Jermyn', 'Aubart', 'Harder', 'Wiklund', 'Beavan', 'Ringhini', 'Palsson', 'Meyer', 'Landergren', 'Widener', 'Betros', 'Gustafsson', 'Bidois', 'Nakid', 'Tikkanen', 'Holverson', 'Plotcharsky', 'Davies', 'Goodwin', 'Buss', 'Sadlier', 'Lehmann', 'Carter', 'Jansson', 'Gustafsson', 'Newell', 'Sandstrom', 'Johansson', 'Olsson', 'McKane', 'Pain', 'Trout', 'Niskanen', 'Adams', 'Jussila', 'Hakkarainen', 'Oreskovic', 'Gale', 'Widegren', 'Richards', 'Birkeland', 'Lefebre', 'Sdycoff', 'Hart', 'Minahan', 'Cunningham', 'Sundman', 'Meek', 'Drew', 'Silven', 'Matthews', 'Van Impe', 'Gheorgheff', 'Charters', 'Zimmerman', 'Danbom', 'Rosblom', 'Wiseman', 'Clarke', 'Phillips', 'Flynn', 'Pickard', 'Bjornstrom-Steffansson', 'Thorneycroft', 'Louch', 'Kallio', 'Silvey', 'Carter', 'Ford', 'Richards', 'Fortune', 'Kvillner', 'Hart', 'Hampe', 'Petterson', 'Reynaldo', 'Johannesen-Bratthammer', 'Dodge', 'Mellinger', 'Seward', 'Baclini', 'Peuchen', 'West', 'Hagland', 'Foreman', 'Goldenberg', 'Peduzzi', 'Jalsevac', 'Millet', 'Kenyon', 'Toomey', \"O'Connor\", 'Anderson', 'Morley', 'Gee', 'Milling', 'Maisner', 'Goncalves', 'Campbell', 'Smart', 'Scanlan', 'Baclini', 'Keefe', 'Cacic', 'West', 'Jerwan', 'Strandberg', 'Clifford', 'Renouf', 'Braund', 'Karlsson', 'Hirvonen', 'Goodwin', 'Frost', 'Rouse', 'Turkula', 'Bishop', 'Lefebre', 'Hoyt', 'Kent', 'Somerton', 'Coutts', 'Hagland', 'Windelov', 'Molson', 'Artagaveytia', 'Stanley', 'Yousseff', 'Eustis', 'Shellard', 'Allison', 'Svensson', 'Calic', 'Canavan', \"O'Sullivan\", 'Laitinen', 'Maioni', 'Penasco y Castellana', 'Quick', 'Bradley', 'Olsen', 'Lang', 'Daly', 'Webber', 'McGough', 'Rothschild', 'Coleff', 'Walker', 'Lemore', 'Ryan', 'Angle', 'Pavlovic', 'Perreault', 'Vovk', 'Lahoud', 'Hippach', 'Kassem', 'Farrell', 'Ridsdale', 'Farthing', 'Salonen', 'Hocking', 'Quick', 'Toufik', 'Elias', 'Peter', 'Cacic', 'Hart', 'Butt', 'LeRoy', 'Risien', 'Frolicher', 'Crosby', 'Andersson', 'Andersson', 'Beane', 'Douglas', 'Nicholson', 'Beane', 'Padro y Manent', 'Goldsmith', 'Davies', 'Thayer', 'Sharp', \"O'Brien\", 'Leeni', 'Ohman', 'Wright', 'Duff Gordon', 'Robbins', 'Taussig', 'de Messemaeker', 'Morrow', 'Sivic', 'Norman', 'Simmons', 'Meanwell', 'Davies', 'Stoytcheff', 'Palsson', 'Doharr', 'Jonsson', 'Harris', 'Appleton', 'Flynn', 'Kelly', 'Rush', 'Patchett', 'Garside', 'Silvey', 'Caram', 'Jussila', 'Christy', 'Thayer', 'Downton', 'Ross', 'Paulner', 'Taussig', 'Jarvis', 'Frolicher-Stehli', 'Gilinski', 'Murdlin', 'Rintamaki', 'Stephenson', 'Elsbury', 'Bourke', 'Chapman', 'Van Impe', 'Leitch', 'Johnson', 'Boulos', 'Duff Gordon', 'Jacobsohn', 'Slabenoff', 'Harrington', 'Torber', 'Homer', 'Lindell', 'Karaic', 'Daniel', 'Laroche', 'Shutes', 'Andersson', 'Jardin', 'Murphy', 'Horgan', 'Brocklebank', 'Herman', 'Danbom', 'Lobb', 'Becker', 'Gavey', 'Yasbeck', 'Kimball', 'Nakid', 'Hansen', 'Bowen', 'Sutton', 'Kirkland', 'Longley', 'Bostandyeff', \"O'Connell\", 'Barkworth', 'Lundahl', 'Stahelin-Maeglin', 'Parr', 'Skoog', 'Davis', 'Leinonen', 'Collyer', 'Panula', 'Thorneycroft', 'Jensen', 'Sagesser', 'Skoog', 'Foo', 'Baclini', 'Harper', 'Cor', 'Simonius-Blumer', 'Willey', 'Stanley', 'Mitkoff', 'Doling', 'Kalvik', \"O'Leary\", 'Hegarty', 'Hickman', 'Radeff', 'Bourke', 'Eitemiller', 'Newell', 'Frauenthal', 'Badt', 'Colley', 'Coleff', 'Lindqvist', 'Hickman', 'Butler', 'Rommetvedt', 'Cook', 'Taylor', 'Brown', 'Davidson', 'Mitchell', 'Wilhelms', 'Watson', 'Edvardsson', 'Sawyer', 'Turja', 'Goodwin', 'Cardeza', 'Peters', 'Hassab', 'Olsvigen', 'Goodwin', 'Brown', 'Laroche', 'Panula', 'Dakic', 'Fischer', 'Madill', 'Dick', 'Karun', 'Lam', 'Saad', 'Weir', 'Chapman', 'Kelly', 'Mullens', 'Thayer', 'Humblen', 'Astor', 'Silverthorne', 'Barbara', 'Gallagher', 'Hansen', 'Morley', 'Kelly', 'Calderhead', 'Cleaver', 'Moubarek', 'Mayne', 'Klaber', 'Taylor', 'Larsson', 'Greenberg', 'Soholt', 'Endres', 'Troutt', 'McEvoy', 'Johnson', 'Harper', 'Jensen', 'Gillespie', 'Hodges', 'Chambers', 'Oreskovic', 'Renouf', 'Mannion', 'Bryhl', 'Ilmakangas', 'Allen', 'Hassan', 'Knight', 'Berriman', 'Troupiansky', 'Williams', 'Ford', 'Lesurer', 'Ivanoff', 'Nankoff', 'Hawksford', 'Cavendish', 'Ryerson', 'McNamee', 'Stranden', 'Crosby', 'Abbott', 'Sinkkonen', 'Marvin', 'Connaghton', 'Wells', 'Moor', 'Vande Velde', 'Jonkoff', 'Herman', 'Hamalainen', 'Carlsson', 'Bailey', 'Theobald', 'Rothes', 'Garfirth', 'Nirva', 'Barah', 'Carter', 'Eklund', 'Hogeboom', 'Brewe', 'Mangan', 'Moran', 'Gronnestad', 'Lievens', 'Jensen', 'Mack', 'Elias', 'Hocking', 'Myhrman', 'Tobin', 'Emanuel', 'Kilgannon', 'Robert', 'Ayoub', 'Dick', 'Long', 'Johnston', 'Ali', 'Harmer', 'Sjoblom', 'Rice', 'Dean', 'Guggenheim', 'Keane', 'Gaskell', 'Sage', 'Hoyt', 'Dantcheff', 'Otter', 'Leader', 'Osman', 'Ibrahim Shawah', 'Van Impe', 'Ponesell', 'Collyer', 'Carter', 'Thomas', 'Hedman', 'Johansson', 'Andrews', 'Pettersson', 'Meyer', 'Chambers', 'Alexander', 'Lester', 'Slemen', 'Andersson', 'Tomlin', 'Fry', 'Heininen', 'Mallet', 'Holm', 'Skoog', 'Hays', 'Lulic', 'Reuchlin', 'Moor', 'Panula', 'Flynn', 'Lam', 'Mallet', 'McCormack', 'Stone', 'Yasbeck', 'Richards', 'Saad', 'Augustsson', 'Allum', 'Compton', 'Pasic', 'Sirota', 'Chip', 'Marechal', 'Alhomaki', 'Mudd', 'Serepeca', 'Lemberopolous', 'Culumovic', 'Abbing', 'Sage', 'Markoff', 'Harper', 'Goldenberg', 'Andersson', 'Svensson', 'Boulos', 'Lines', 'Carter', 'Aks', 'Wick', 'Daly', 'Baclini', 'Razi', 'Hansen', 'Giles', 'Swift', 'Sage', 'Gill', 'Bystrom', 'Duran y More', 'Roebling', 'van Melkebeke', 'Johnson', 'Balkic', 'Beckwith', 'Carlsson', 'Vander Cruyssen', 'Abelson', 'Najib', 'Gustafsson', 'Petroff', 'Laleff', 'Potter', 'Shelley', 'Markun', 'Dahlberg', 'Banfield', 'Sutehall', 'Rice', 'Montvila', 'Graham', 'Johnston', 'Behr', 'Dooley']\n"
     ]
    }
   ],
   "source": [
    "# Make a list to store last names\n",
    "lastName = []\n",
    "\n",
    "# Iterate through the cabinDF data frame\n",
    "# cabinDF[\"Name\"] turns the column into a list\n",
    "for name in cabinDF[\"Name\"]:\n",
    "    # Add the found last name to the list\n",
    "    lastName.append(findLastName(name))\n",
    "print(lastName)\n"
   ]
  }
 ],
 "metadata": {
  "kernelspec": {
   "display_name": "Python 3",
   "language": "python",
   "name": "python3"
  },
  "language_info": {
   "codemirror_mode": {
    "name": "ipython",
    "version": 3
   },
   "file_extension": ".py",
   "mimetype": "text/x-python",
   "name": "python",
   "nbconvert_exporter": "python",
   "pygments_lexer": "ipython3",
   "version": "3.12.6"
  }
 },
 "nbformat": 4,
 "nbformat_minor": 2
}
